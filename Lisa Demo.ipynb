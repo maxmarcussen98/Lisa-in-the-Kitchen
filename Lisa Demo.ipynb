{
 "cells": [
  {
   "cell_type": "code",
   "execution_count": 4,
   "id": "4b4c0779",
   "metadata": {},
   "outputs": [],
   "source": [
    "import Lisa"
   ]
  },
  {
   "cell_type": "code",
   "execution_count": 6,
   "id": "2cfe3d5a",
   "metadata": {},
   "outputs": [
    {
     "name": "stdout",
     "output_type": "stream",
     "text": [
      "Generating recipe...\n",
      "Meal type: breakfast\n",
      "Ingredients used: Peas, Millet\n",
      "Hello, dear readers! As we welcome the fresh and rejuvenating month of March, I couldn't help but reminisce about a heartwarming story I'd like to share with you all. This particular memory involves my talented pianist daughter, Emily, and our special weekend breakfast tradition.\n",
      "\n",
      "You see, every Saturday morning, after Emily's piano lessons, we would spend time together in the kitchen preparing a delicious and wholesome breakfast. We've tried numerous recipes, from towering stacks of pancakes to warm bowls of oatmeal. However, there's one recipe that has become a family favorite – our fluffy, protein-packed Millet and Pea Frittata!\n",
      "\n",
      "Emily and I have perfected this recipe over the years, adding a bit of our own flair to make it truly special. The combination of millet and peas provides a delightful texture, while the eggs bring it all together into a scrumptious and filling meal. Not only is this dish easy to prepare, but it's also an excellent source of nutrients to kickstart our weekend mornings.\n",
      "\n",
      "Now, without further ado, let me share with you our beloved Millet and Pea Frittata recipe:\n",
      "\n",
      "Ingredients:\n",
      "- 1 cup cooked millet\n",
      "- 1 cup frozen peas, thawed\n",
      "- 6 large eggs\n",
      "- 1/2 cup milk (we prefer almond milk for a lighter taste)\n",
      "- 1/2 cup grated Parmesan cheese\n",
      "- 1/4 cup thinly sliced green onions\n",
      "- 1/4 cup chopped fresh parsley\n",
      "- Salt and pepper to taste\n",
      "- 2 tablespoons olive oil\n",
      "\n",
      "Instructions:\n",
      "1. Preheat your oven to 375°F (190°C).\n",
      "2. In a large mixing bowl, whisk together the eggs, milk, Parmesan cheese, green onions, parsley, salt, and pepper until well combined.\n",
      "3. Gently fold in the cooked millet and thawed peas until evenly distributed.\n",
      "4. Heat the olive oil in a 10-inch ovenproof skillet over medium heat. Pour the egg mixture into the skillet and spread it out evenly.\n",
      "5. Cook for about 5 minutes or until the edges start to set. Be careful not to overcook or stir the mixture during this time.\n",
      "6. Transfer the skillet to the preheated oven and bake for 20-25 minutes, or until the center is set and slightly golden.\n",
      "7. Remove from the oven and let it cool for a few minutes before slicing into wedges.\n",
      "\n",
      "Serve this delightful Millet and Pea Frittata with some crusty bread and fresh fruit for a well-rounded breakfast that everyone will love!\n",
      "\n",
      "This cherished recipe holds a special place in our hearts, not only for its incredible flavor and satisfying texture but also for the precious memories created in the kitchen with my dear Emily. I hope it brings joy to your family as much as it has to ours.\n",
      "\n",
      "Until next time, happy cooking!\n",
      "getting Actual meal category...\n",
      "breakfast\n",
      "Getting post title...\n",
      "\"Fluffy Millet and Pea Frittata: The Perfect Protein-Packed Breakfast Recipe for Family Bonding\"\n",
      "Getting image prompt...\n",
      "Create an image of a fluffy millet and pea frittata, with visible cooked millet, green peas, grated Parmesan cheese, sliced green onions, and chopped parsley. The frittata should be cut into wedges on a plate, accompanied by crusty bread and fresh fruit. The texture of the frittata should appear light and golden, showcasing its protein-packed ingredients.\n",
      "Generating image...\n",
      "Image:\n",
      "https://oaidalleapiprodscus.blob.core.windows.net/private/org-xSrVOCJmpgPQmNax5qRiYwim/user-mWHui0VTGsbeHyHnFdPWSovd/img-fgnLWg9lyn0LT4b9VuFXcgTL.png?st=2023-03-21T18%3A40%3A53Z&se=2023-03-21T20%3A40%3A53Z&sp=r&sv=2021-08-06&sr=b&rscd=inline&rsct=image/png&skoid=6aaadede-4fb3-4698-a8f6-684d7786b067&sktid=a48cca56-e6da-484e-a814-9c849652bcb3&skt=2023-03-21T14%3A35%3A11Z&ske=2023-03-22T14%3A35%3A11Z&sks=b&skv=2021-08-06&sig=ICdNaTkur/ntkbTTkEjMIGi4YSdwHjIlPrE3sbb1p9o%3D\n",
      "Verify that you want to post this recipe (y/n):\n",
      "Posting to WordPress...\n",
      "Done\n"
     ]
    }
   ],
   "source": [
    "with open(\"Lisa's History.txt\", 'r') as file: \n",
    "    LisaHistory = file.read()\n",
    "\n",
    "LisaNew = Lisa.Lisa(LisaHistory)\n",
    "\n",
    "LisaNew.autoPost()"
   ]
  },
  {
   "cell_type": "code",
   "execution_count": null,
   "id": "136c9be2",
   "metadata": {},
   "outputs": [],
   "source": []
  }
 ],
 "metadata": {
  "kernelspec": {
   "display_name": "Python 3 (ipykernel)",
   "language": "python",
   "name": "python3"
  },
  "language_info": {
   "codemirror_mode": {
    "name": "ipython",
    "version": 3
   },
   "file_extension": ".py",
   "mimetype": "text/x-python",
   "name": "python",
   "nbconvert_exporter": "python",
   "pygments_lexer": "ipython3",
   "version": "3.9.12"
  }
 },
 "nbformat": 4,
 "nbformat_minor": 5
}
